{
 "cells": [
  {
   "metadata": {},
   "cell_type": "raw",
   "source": "",
   "id": "356d2c933f4e113e"
  },
  {
   "metadata": {},
   "cell_type": "markdown",
   "source": "# Load from Libraries",
   "id": "e48446725c5e599e"
  },
  {
   "metadata": {
    "ExecuteTime": {
     "end_time": "2025-08-01T06:49:44.534040Z",
     "start_time": "2025-08-01T06:49:39.297514Z"
    }
   },
   "cell_type": "code",
   "source": [
    "import numpy as np\n",
    "from keras.models import Sequential\n",
    "from keras.layers import Dense, Flatten\n",
    "from keras.datasets import cifar10\n",
    "from keras.utils import to_categorical\n",
    "from keras.optimizers import Adam\n",
    "from matplotlib import pyplot as plt"
   ],
   "id": "916eef4d1a6bea0",
   "outputs": [],
   "execution_count": 2
  },
  {
   "metadata": {},
   "cell_type": "markdown",
   "source": "# Load data",
   "id": "d3a9fd7a886a2440"
  },
  {
   "metadata": {
    "ExecuteTime": {
     "end_time": "2025-08-01T06:49:46.825323Z",
     "start_time": "2025-08-01T06:49:44.546712Z"
    }
   },
   "cell_type": "code",
   "source": "(x_train, y_train), (x_test, y_test) = cifar10.load_data()",
   "id": "6f0d3a99bbb63a94",
   "outputs": [],
   "execution_count": 3
  },
  {
   "metadata": {},
   "cell_type": "markdown",
   "source": "# Preprocessing",
   "id": "c262604942bb5b3c"
  },
  {
   "metadata": {
    "ExecuteTime": {
     "end_time": "2025-08-01T06:49:46.837668Z",
     "start_time": "2025-08-01T06:49:46.830054Z"
    }
   },
   "cell_type": "code",
   "source": [
    "y_train_cat = to_categorical(y_train)\n",
    "y_test_cat = to_categorical(y_test)"
   ],
   "id": "b6067da12a2315fc",
   "outputs": [],
   "execution_count": 4
  },
  {
   "metadata": {},
   "cell_type": "markdown",
   "source": "# Build the architecture",
   "id": "2e225e29c9899bb3"
  },
  {
   "metadata": {
    "ExecuteTime": {
     "end_time": "2025-08-01T06:49:47.017450Z",
     "start_time": "2025-08-01T06:49:46.890567Z"
    }
   },
   "cell_type": "code",
   "source": [
    "model = Sequential()\n",
    "model.add(Flatten(input_shape=(32, 32, 3)))\n",
    "model.add(Dense(1024, activation='relu'))\n",
    "model.add(Dense(512, activation='relu'))\n",
    "model.add(Dense(256, activation='relu'))\n",
    "model.add(Dense(128, activation='relu'))\n",
    "model.add(Dense(10, activation='softmax'))"
   ],
   "id": "4cb54ef98cfe554d",
   "outputs": [
    {
     "name": "stderr",
     "output_type": "stream",
     "text": [
      "E:\\PycharmProjects\\DL-Lab\\.venv\\Lib\\site-packages\\keras\\src\\layers\\reshaping\\flatten.py:37: UserWarning: Do not pass an `input_shape`/`input_dim` argument to a layer. When using Sequential models, prefer using an `Input(shape)` object as the first layer in the model instead.\n",
      "  super().__init__(**kwargs)\n"
     ]
    }
   ],
   "execution_count": 5
  },
  {
   "metadata": {
    "ExecuteTime": {
     "end_time": "2025-08-01T06:49:47.067987Z",
     "start_time": "2025-08-01T06:49:47.043035Z"
    }
   },
   "cell_type": "code",
   "source": "model.compile(optimizer='adam', loss='categorical_crossentropy', metrics=['accuracy'])",
   "id": "3f6d226683ba2b9b",
   "outputs": [],
   "execution_count": 6
  },
  {
   "metadata": {
    "ExecuteTime": {
     "end_time": "2025-08-01T06:50:14.960866Z",
     "start_time": "2025-08-01T06:49:47.092230Z"
    }
   },
   "cell_type": "code",
   "source": "model.fit(x_train, y_train_cat, epochs=1, batch_size=64, validation_split=0.2)",
   "id": "53366adfe1abad81",
   "outputs": [
    {
     "name": "stdout",
     "output_type": "stream",
     "text": [
      "\u001B[1m625/625\u001B[0m \u001B[32m━━━━━━━━━━━━━━━━━━━━\u001B[0m\u001B[37m\u001B[0m \u001B[1m27s\u001B[0m 41ms/step - accuracy: 0.2334 - loss: 22.5635 - val_accuracy: 0.2935 - val_loss: 2.0326\n"
     ]
    },
    {
     "data": {
      "text/plain": [
       "<keras.src.callbacks.history.History at 0x213d39f7bd0>"
      ]
     },
     "execution_count": 7,
     "metadata": {},
     "output_type": "execute_result"
    }
   ],
   "execution_count": 7
  },
  {
   "metadata": {
    "ExecuteTime": {
     "end_time": "2025-08-01T06:50:16.836161Z",
     "start_time": "2025-08-01T06:50:15.118202Z"
    }
   },
   "cell_type": "code",
   "source": "test_loss, test_accuracy = model.evaluate(x_test, y_test_cat)\n",
   "id": "ff094f22cce065e3",
   "outputs": [
    {
     "name": "stdout",
     "output_type": "stream",
     "text": [
      "\u001B[1m313/313\u001B[0m \u001B[32m━━━━━━━━━━━━━━━━━━━━\u001B[0m\u001B[37m\u001B[0m \u001B[1m2s\u001B[0m 5ms/step - accuracy: 0.2989 - loss: 2.0203\n"
     ]
    }
   ],
   "execution_count": 8
  },
  {
   "metadata": {
    "ExecuteTime": {
     "end_time": "2025-08-01T06:50:18.812641Z",
     "start_time": "2025-08-01T06:50:16.868842Z"
    }
   },
   "cell_type": "code",
   "source": [
    "predictions = model.predict(x_test)\n",
    "predictedLabel = np.argmax(predictions, axis=1)\n",
    "print(f\"Predicted label: {(predictedLabel[10])}\")"
   ],
   "id": "ddf2f27551db8130",
   "outputs": [
    {
     "name": "stdout",
     "output_type": "stream",
     "text": [
      "\u001B[1m313/313\u001B[0m \u001B[32m━━━━━━━━━━━━━━━━━━━━\u001B[0m\u001B[37m\u001B[0m \u001B[1m2s\u001B[0m 5ms/step\n",
      "Predicted label: 8\n"
     ]
    }
   ],
   "execution_count": 9
  },
  {
   "metadata": {
    "ExecuteTime": {
     "end_time": "2025-08-01T06:50:18.850720Z",
     "start_time": "2025-08-01T06:50:18.843732Z"
    }
   },
   "cell_type": "code",
   "source": "",
   "id": "1e312e33c37d0334",
   "outputs": [],
   "execution_count": null
  }
 ],
 "metadata": {},
 "nbformat": 4,
 "nbformat_minor": 5
}
